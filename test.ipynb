{
 "cells": [
  {
   "cell_type": "code",
   "execution_count": 1,
   "metadata": {},
   "outputs": [
    {
     "name": "stderr",
     "output_type": "stream",
     "text": [
      "2024-12-21 23:52:57.140190: I tensorflow/core/util/port.cc:153] oneDNN custom operations are on. You may see slightly different numerical results due to floating-point round-off errors from different computation orders. To turn them off, set the environment variable `TF_ENABLE_ONEDNN_OPTS=0`.\n",
      "2024-12-21 23:52:57.142208: I external/local_xla/xla/tsl/cuda/cudart_stub.cc:32] Could not find cuda drivers on your machine, GPU will not be used.\n",
      "2024-12-21 23:52:57.147035: I external/local_xla/xla/tsl/cuda/cudart_stub.cc:32] Could not find cuda drivers on your machine, GPU will not be used.\n",
      "2024-12-21 23:52:57.155436: E external/local_xla/xla/stream_executor/cuda/cuda_fft.cc:477] Unable to register cuFFT factory: Attempting to register factory for plugin cuFFT when one has already been registered\n",
      "WARNING: All log messages before absl::InitializeLog() is called are written to STDERR\n",
      "E0000 00:00:1734814377.172260   21697 cuda_dnn.cc:8310] Unable to register cuDNN factory: Attempting to register factory for plugin cuDNN when one has already been registered\n",
      "E0000 00:00:1734814377.176092   21697 cuda_blas.cc:1418] Unable to register cuBLAS factory: Attempting to register factory for plugin cuBLAS when one has already been registered\n",
      "2024-12-21 23:52:57.195177: I tensorflow/core/platform/cpu_feature_guard.cc:210] This TensorFlow binary is optimized to use available CPU instructions in performance-critical operations.\n",
      "To enable the following instructions: AVX2 AVX512F AVX512_VNNI FMA, in other operations, rebuild TensorFlow with the appropriate compiler flags.\n"
     ]
    }
   ],
   "source": [
    "import pandas as pd\n",
    "from warnings import filterwarnings\n",
    "filterwarnings(\"ignore\")\n",
    "from sqlalchemy import create_engine\n",
    "from arch import arch_model\n",
    "from assets.GARCHModel import GarchModel\n",
    "from assets.PostgresManager import PostgresModel\n",
    "from assets.LSTMModeller import LSTMModeller\n",
    "from assets.QueryManager import QueryModel\n",
    "from assets.Statics import Stock_Stats\n",
    "from assets.SARIMAModel import ARIMAModel\n",
    "from assets.LYAPONOVModel import LyapunovModel\n"
   ]
  },
  {
   "cell_type": "code",
   "execution_count": 2,
   "metadata": {},
   "outputs": [
    {
     "data": {
      "text/html": [
       "<div>\n",
       "<style scoped>\n",
       "    .dataframe tbody tr th:only-of-type {\n",
       "        vertical-align: middle;\n",
       "    }\n",
       "\n",
       "    .dataframe tbody tr th {\n",
       "        vertical-align: top;\n",
       "    }\n",
       "\n",
       "    .dataframe thead th {\n",
       "        text-align: right;\n",
       "    }\n",
       "</style>\n",
       "<table border=\"1\" class=\"dataframe\">\n",
       "  <thead>\n",
       "    <tr style=\"text-align: right;\">\n",
       "      <th></th>\n",
       "      <th>Open</th>\n",
       "      <th>High</th>\n",
       "      <th>Low</th>\n",
       "      <th>Close</th>\n",
       "      <th>Adj Close</th>\n",
       "      <th>Volume</th>\n",
       "    </tr>\n",
       "    <tr>\n",
       "      <th>Date</th>\n",
       "      <th></th>\n",
       "      <th></th>\n",
       "      <th></th>\n",
       "      <th></th>\n",
       "      <th></th>\n",
       "      <th></th>\n",
       "    </tr>\n",
       "  </thead>\n",
       "  <tbody>\n",
       "    <tr>\n",
       "      <th>2000-05</th>\n",
       "      <td>11.527777</td>\n",
       "      <td>11.527777</td>\n",
       "      <td>10.833333</td>\n",
       "      <td>10.833333</td>\n",
       "      <td>10.420101</td>\n",
       "      <td>44349</td>\n",
       "    </tr>\n",
       "    <tr>\n",
       "      <th>2000-06</th>\n",
       "      <td>0.255694</td>\n",
       "      <td>0.255694</td>\n",
       "      <td>0.242909</td>\n",
       "      <td>0.250580</td>\n",
       "      <td>0.241022</td>\n",
       "      <td>469974</td>\n",
       "    </tr>\n",
       "    <tr>\n",
       "      <th>2000-07</th>\n",
       "      <td>0.237796</td>\n",
       "      <td>0.237796</td>\n",
       "      <td>0.222454</td>\n",
       "      <td>0.225011</td>\n",
       "      <td>0.216428</td>\n",
       "      <td>291148</td>\n",
       "    </tr>\n",
       "    <tr>\n",
       "      <th>2000-08</th>\n",
       "      <td>0.204555</td>\n",
       "      <td>0.204555</td>\n",
       "      <td>0.191770</td>\n",
       "      <td>0.196884</td>\n",
       "      <td>0.189374</td>\n",
       "      <td>504429</td>\n",
       "    </tr>\n",
       "    <tr>\n",
       "      <th>2000-09</th>\n",
       "      <td>0.201998</td>\n",
       "      <td>0.201998</td>\n",
       "      <td>0.186657</td>\n",
       "      <td>0.194327</td>\n",
       "      <td>0.186915</td>\n",
       "      <td>725376</td>\n",
       "    </tr>\n",
       "    <tr>\n",
       "      <th>...</th>\n",
       "      <td>...</td>\n",
       "      <td>...</td>\n",
       "      <td>...</td>\n",
       "      <td>...</td>\n",
       "      <td>...</td>\n",
       "      <td>...</td>\n",
       "    </tr>\n",
       "    <tr>\n",
       "      <th>2024-08</th>\n",
       "      <td>22.260000</td>\n",
       "      <td>22.700001</td>\n",
       "      <td>22.240000</td>\n",
       "      <td>22.360001</td>\n",
       "      <td>22.360001</td>\n",
       "      <td>3198000</td>\n",
       "    </tr>\n",
       "    <tr>\n",
       "      <th>2024-09</th>\n",
       "      <td>23.500000</td>\n",
       "      <td>23.600000</td>\n",
       "      <td>22.660000</td>\n",
       "      <td>23.320000</td>\n",
       "      <td>23.320000</td>\n",
       "      <td>4462388</td>\n",
       "    </tr>\n",
       "    <tr>\n",
       "      <th>2024-10</th>\n",
       "      <td>24.320000</td>\n",
       "      <td>24.360001</td>\n",
       "      <td>21.719999</td>\n",
       "      <td>22.180000</td>\n",
       "      <td>22.180000</td>\n",
       "      <td>6322056</td>\n",
       "    </tr>\n",
       "    <tr>\n",
       "      <th>2024-11</th>\n",
       "      <td>23.620001</td>\n",
       "      <td>24.000000</td>\n",
       "      <td>23.000000</td>\n",
       "      <td>23.620001</td>\n",
       "      <td>23.620001</td>\n",
       "      <td>5940069</td>\n",
       "    </tr>\n",
       "    <tr>\n",
       "      <th>2024-12</th>\n",
       "      <td>24.719999</td>\n",
       "      <td>24.900000</td>\n",
       "      <td>24.400000</td>\n",
       "      <td>24.639999</td>\n",
       "      <td>24.639999</td>\n",
       "      <td>2074982</td>\n",
       "    </tr>\n",
       "  </tbody>\n",
       "</table>\n",
       "<p>296 rows × 6 columns</p>\n",
       "</div>"
      ],
      "text/plain": [
       "              Open       High        Low      Close  Adj Close   Volume\n",
       "Date                                                                   \n",
       "2000-05  11.527777  11.527777  10.833333  10.833333  10.420101    44349\n",
       "2000-06   0.255694   0.255694   0.242909   0.250580   0.241022   469974\n",
       "2000-07   0.237796   0.237796   0.222454   0.225011   0.216428   291148\n",
       "2000-08   0.204555   0.204555   0.191770   0.196884   0.189374   504429\n",
       "2000-09   0.201998   0.201998   0.186657   0.194327   0.186915   725376\n",
       "...            ...        ...        ...        ...        ...      ...\n",
       "2024-08  22.260000  22.700001  22.240000  22.360001  22.360001  3198000\n",
       "2024-09  23.500000  23.600000  22.660000  23.320000  23.320000  4462388\n",
       "2024-10  24.320000  24.360001  21.719999  22.180000  22.180000  6322056\n",
       "2024-11  23.620001  24.000000  23.000000  23.620001  23.620001  5940069\n",
       "2024-12  24.719999  24.900000  24.400000  24.639999  24.639999  2074982\n",
       "\n",
       "[296 rows x 6 columns]"
      ]
     },
     "execution_count": 2,
     "metadata": {},
     "output_type": "execute_result"
    }
   ],
   "source": [
    "df = pd.read_sql_query('SELECT * FROM bistall.\"ARSAN\"', PostgresModel().engine)\n",
    "df.set_index(\"Date\").to_period(\"M\").groupby(\"Date\").max()"
   ]
  },
  {
   "cell_type": "code",
   "execution_count": 3,
   "metadata": {},
   "outputs": [],
   "source": [
    "arsan_test = ARIMAModel(schema=\"bistall\", table_name=\"ARSAN\")"
   ]
  },
  {
   "cell_type": "code",
   "execution_count": 4,
   "metadata": {},
   "outputs": [
    {
     "data": {
      "text/plain": [
       "24.639999389648438"
      ]
     },
     "execution_count": 4,
     "metadata": {},
     "output_type": "execute_result"
    }
   ],
   "source": [
    "arsan_test.weekly_last_price"
   ]
  },
  {
   "cell_type": "code",
   "execution_count": 5,
   "metadata": {},
   "outputs": [
    {
     "data": {
      "text/plain": [
       "24.725315047347955"
      ]
     },
     "execution_count": 5,
     "metadata": {},
     "output_type": "execute_result"
    }
   ],
   "source": [
    "arsan_test.weekly_predicted_price"
   ]
  },
  {
   "cell_type": "code",
   "execution_count": 6,
   "metadata": {},
   "outputs": [],
   "source": [
    "arsan_test2 = GarchModel(schema=\"bistall\", table_name=\"ARSAN\")"
   ]
  },
  {
   "cell_type": "code",
   "execution_count": 13,
   "metadata": {},
   "outputs": [
    {
     "data": {
      "text/plain": [
       "24.639999389648438"
      ]
     },
     "execution_count": 13,
     "metadata": {},
     "output_type": "execute_result"
    }
   ],
   "source": [
    "arsan_test2.monthly_last_price"
   ]
  },
  {
   "cell_type": "code",
   "execution_count": 7,
   "metadata": {},
   "outputs": [
    {
     "data": {
      "text/plain": [
       "23.85002319733331"
      ]
     },
     "execution_count": 7,
     "metadata": {},
     "output_type": "execute_result"
    }
   ],
   "source": [
    "arsan_test2.predicted_price"
   ]
  },
  {
   "cell_type": "code",
   "execution_count": 8,
   "metadata": {},
   "outputs": [],
   "source": [
    "arsan_test3 = LyapunovModel(schema=\"bistall\", table_name=\"ARSAN\")"
   ]
  },
  {
   "cell_type": "code",
   "execution_count": 9,
   "metadata": {},
   "outputs": [
    {
     "data": {
      "text/plain": [
       "23.872870567947533"
      ]
     },
     "execution_count": 9,
     "metadata": {},
     "output_type": "execute_result"
    }
   ],
   "source": [
    "arsan_test3.predicted_price"
   ]
  },
  {
   "cell_type": "code",
   "execution_count": 10,
   "metadata": {},
   "outputs": [
    {
     "data": {
      "text/plain": [
       "24.91513109464511"
      ]
     },
     "execution_count": 10,
     "metadata": {},
     "output_type": "execute_result"
    }
   ],
   "source": [
    "arsan_test3.weekly_predicted_price"
   ]
  },
  {
   "cell_type": "code",
   "execution_count": 12,
   "metadata": {},
   "outputs": [
    {
     "data": {
      "text/plain": [
       "25.677757569120566"
      ]
     },
     "execution_count": 12,
     "metadata": {},
     "output_type": "execute_result"
    }
   ],
   "source": [
    "arsan_test3.monthly_predicted_price"
   ]
  }
 ],
 "metadata": {
  "kernelspec": {
   "display_name": ".venv",
   "language": "python",
   "name": "python3"
  },
  "language_info": {
   "codemirror_mode": {
    "name": "ipython",
    "version": 3
   },
   "file_extension": ".py",
   "mimetype": "text/x-python",
   "name": "python",
   "nbconvert_exporter": "python",
   "pygments_lexer": "ipython3",
   "version": "3.12.3"
  }
 },
 "nbformat": 4,
 "nbformat_minor": 2
}
