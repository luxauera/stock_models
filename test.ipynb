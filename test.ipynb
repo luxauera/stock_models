{
 "cells": [
  {
   "cell_type": "code",
   "execution_count": 1,
   "metadata": {},
   "outputs": [],
   "source": [
    "import pandas as pd\n",
    "from warnings import filterwarnings\n",
    "filterwarnings(\"ignore\")\n",
    "from sqlalchemy import create_engine\n",
    "from arch import arch_model\n",
    "from assets.GARCHModel import GarchModel\n",
    "from assets.PostgresManager import PostgresModel\n",
    "from assets.QueryManager import QueryModel\n",
    "from assets.Statics import Stock_Stats\n",
    "from assets.SARIMAModel import ARIMAModel\n",
    "from assets.LYAPONOVModel import LyapunovModel\n"
   ]
  },
  {
   "cell_type": "code",
   "execution_count": 16,
   "metadata": {},
   "outputs": [],
   "source": [
    "querymodel = QueryModel()"
   ]
  },
  {
   "cell_type": "code",
   "execution_count": null,
   "metadata": {},
   "outputs": [],
   "source": [
    "querymodel.query(schema=\"lyapunov\", table=\"lyapunov\", columns=\"*\")"
   ]
  }
 ],
 "metadata": {
  "kernelspec": {
   "display_name": ".venv",
   "language": "python",
   "name": "python3"
  },
  "language_info": {
   "codemirror_mode": {
    "name": "ipython",
    "version": 3
   },
   "file_extension": ".py",
   "mimetype": "text/x-python",
   "name": "python",
   "nbconvert_exporter": "python",
   "pygments_lexer": "ipython3",
   "version": "3.12.3"
  }
 },
 "nbformat": 4,
 "nbformat_minor": 2
}
