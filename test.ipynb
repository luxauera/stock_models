{
 "cells": [
  {
   "cell_type": "code",
   "execution_count": 1,
   "metadata": {},
   "outputs": [],
   "source": [
    "import pandas as pd\n",
    "from warnings import filterwarnings \n",
    "from sqlalchemy import create_engine\n",
    "from arch import arch_model\n",
    "from assets.GARCHModel import GarchModel\n",
    "from assets.PostgresManager import PostgresModel\n",
    "from assets.LSTMModeller import LSTMModeller\n",
    "from assets.QueryManager import QueryModel\n",
    "filterwarnings(\"ignore\")"
   ]
  },
  {
   "cell_type": "code",
   "execution_count": 2,
   "metadata": {},
   "outputs": [
    {
     "name": "stdout",
     "output_type": "stream",
     "text": [
      "Schema 'logs' created or already exists.\n"
     ]
    }
   ],
   "source": [
    "dbmodel = PostgresModel()"
   ]
  },
  {
   "cell_type": "code",
   "execution_count": 3,
   "metadata": {},
   "outputs": [
    {
     "name": "stdout",
     "output_type": "stream",
     "text": [
      "Schema 'logs' created or already exists.\n",
      "Schema 'logs' created or already exists.\n",
      "EURTRY=X 36.72094913395851 36.71149826049805 2024-12-04 17:31:12.242679 2024-12-01 00:00:00\n",
      "Schema 'logs' created or already exists.\n"
     ]
    },
    {
     "name": "stderr",
     "output_type": "stream",
     "text": [
      "c:\\Users\\ileti\\Desktop\\Project\\Financial_Models\\.venv\\lib\\site-packages\\arch\\univariate\\base.py:768: ConvergenceWarning: The optimizer returned code 4. The message is:\n",
      "Inequality constraints incompatible\n",
      "See scipy.optimize.fmin_slsqp for code meaning.\n",
      "\n",
      "  warnings.warn(\n"
     ]
    },
    {
     "name": "stdout",
     "output_type": "stream",
     "text": [
      "USDTRY=X 1.1187507986506657 34.702999114990234 2024-12-04 17:31:12.330877 2024-12-01 00:00:00\n",
      "Schema 'logs' created or already exists.\n",
      "KERVN 2.102084108961849 2.0999999046325684 2024-12-04 17:31:12.412495 2024-11-29 00:00:00\n",
      "Schema 'logs' created or already exists.\n",
      "KERVT 14.894761011110763 14.880000114440918 2024-12-04 17:31:12.501611 2024-11-29 00:00:00\n",
      "Schema 'logs' created or already exists.\n",
      "KFEIN 84.69079228789921 84.5999984741211 2024-12-04 17:31:12.543965 2024-11-29 00:00:00\n",
      "Schema 'logs' created or already exists.\n",
      "KGYO 5.431959728888638 5.429999828338623 2024-12-04 17:31:12.651958 2024-11-29 00:00:00\n",
      "Schema 'logs' created or already exists.\n",
      "USDT-USD 1.0007544161516826 1.000749945640564 2024-12-04 17:31:12.698660 2024-12-01 00:00:00\n",
      "Schema 'logs' created or already exists.\n"
     ]
    },
    {
     "name": "stderr",
     "output_type": "stream",
     "text": [
      "c:\\Users\\ileti\\Desktop\\Project\\Financial_Models\\.venv\\lib\\site-packages\\arch\\univariate\\base.py:768: ConvergenceWarning: The optimizer returned code 4. The message is:\n",
      "Inequality constraints incompatible\n",
      "See scipy.optimize.fmin_slsqp for code meaning.\n",
      "\n",
      "  warnings.warn(\n"
     ]
    },
    {
     "name": "stdout",
     "output_type": "stream",
     "text": [
      "LINK-USD 18.527728150917312 18.482393264770508 2024-12-04 17:31:12.782212 2024-12-01 00:00:00\n",
      "Schema 'logs' created or already exists.\n",
      "TRX-USD 0.20654969876662832 0.20619216561317444 2024-12-04 17:31:12.847491 2024-12-01 00:00:00\n",
      "Schema 'logs' created or already exists.\n",
      "XLM-USD 0.5292777482355155 0.5292812585830688 2024-12-04 17:31:12.927080 2024-12-01 00:00:00\n",
      "Schema 'logs' created or already exists.\n",
      "OTIS 103.0578553911715 102.9800033569336 2024-12-04 17:31:12.968104 2024-11-29 00:00:00\n",
      "Schema 'logs' created or already exists.\n",
      "GEHC 83.26462255532077 83.22000122070312 2024-12-04 17:31:13.019790 2024-11-29 00:00:00\n",
      "Schema 'logs' created or already exists.\n",
      "LULU 321.0790367332986 320.6600036621094 2024-12-04 17:31:13.112286 2024-11-29 00:00:00\n",
      "Schema 'logs' created or already exists.\n",
      "A 138.10604767556634 137.97000122070312 2024-12-04 17:31:13.238796 2024-11-29 00:00:00\n"
     ]
    }
   ],
   "source": [
    "\n",
    "test = QueryModel()\n",
    "for schema in test.sub_tables_dict.keys():\n",
    "    created_schema_name = \"garch\" + schema\n",
    "    #dbmodel.create_schema(created_schema_name)\n",
    "    for table in test.sub_tables_dict[schema][:4]:\n",
    "        GARCH = GarchModel(schema=schema, table_name=table)\n",
    "        print(GARCH.table_name, GARCH.predicted_price,\n",
    "              GARCH.last_price, GARCH.model_date, GARCH.data_max_date)"
   ]
  },
  {
   "cell_type": "code",
   "execution_count": 4,
   "metadata": {},
   "outputs": [
    {
     "name": "stdout",
     "output_type": "stream",
     "text": [
      "Schema 'logs' created or already exists.\n"
     ]
    },
    {
     "name": "stderr",
     "output_type": "stream",
     "text": [
      "c:\\Users\\ileti\\Desktop\\Project\\Financial_Models\\.venv\\lib\\site-packages\\arch\\univariate\\base.py:768: ConvergenceWarning: The optimizer returned code 4. The message is:\n",
      "Inequality constraints incompatible\n",
      "See scipy.optimize.fmin_slsqp for code meaning.\n",
      "\n",
      "  warnings.warn(\n"
     ]
    }
   ],
   "source": [
    "GARCH = GarchModel(schema=\"trycurr\", table_name='USDTRY=X')\n"
   ]
  }
 ],
 "metadata": {
  "kernelspec": {
   "display_name": ".venv",
   "language": "python",
   "name": "python3"
  },
  "language_info": {
   "codemirror_mode": {
    "name": "ipython",
    "version": 3
   },
   "file_extension": ".py",
   "mimetype": "text/x-python",
   "name": "python",
   "nbconvert_exporter": "python",
   "pygments_lexer": "ipython3",
   "version": "3.10.6"
  }
 },
 "nbformat": 4,
 "nbformat_minor": 2
}
