{
 "cells": [
  {
   "cell_type": "code",
   "execution_count": 1,
   "metadata": {},
   "outputs": [],
   "source": [
    "import pandas as pd\n",
    "import yfinance as yf\n",
    "from warnings import filterwarnings \n",
    "from sqlalchemy import create_engine\n",
    "from arch import arch_model\n",
    "from assets.GARCHModel import GarchModel\n",
    "from assets.PostgresManager import PostgresModel\n",
    "from assets.LSTMModeller import LSTMModeller\n",
    "filterwarnings(\"ignore\")"
   ]
  },
  {
   "cell_type": "code",
   "execution_count": 2,
   "metadata": {},
   "outputs": [
    {
     "name": "stdout",
     "output_type": "stream",
     "text": [
      "Schema 'logs' created or already exists.\n"
     ]
    }
   ],
   "source": [
    "dbmodel = PostgresModel()"
   ]
  },
  {
   "cell_type": "code",
   "execution_count": 13,
   "metadata": {},
   "outputs": [],
   "source": [
    "target_tickers = [\"ARSAN\",\"BRKO\",\"KONTR\",\"HKTM\",\"AKFYE\",\"AEFES\",\"MGROS\",\"YKBNK\",\"CCOLA\"]"
   ]
  },
  {
   "cell_type": "code",
   "execution_count": 17,
   "metadata": {},
   "outputs": [
    {
     "data": {
      "text/html": [
       "<div>\n",
       "<style scoped>\n",
       "    .dataframe tbody tr th:only-of-type {\n",
       "        vertical-align: middle;\n",
       "    }\n",
       "\n",
       "    .dataframe tbody tr th {\n",
       "        vertical-align: top;\n",
       "    }\n",
       "\n",
       "    .dataframe thead th {\n",
       "        text-align: right;\n",
       "    }\n",
       "</style>\n",
       "<table border=\"1\" class=\"dataframe\">\n",
       "  <thead>\n",
       "    <tr style=\"text-align: right;\">\n",
       "      <th></th>\n",
       "      <th>STOCK</th>\n",
       "      <th>IPODATE</th>\n",
       "    </tr>\n",
       "  </thead>\n",
       "  <tbody>\n",
       "    <tr>\n",
       "      <th>5</th>\n",
       "      <td>AEFES</td>\n",
       "      <td>2000-05-10</td>\n",
       "    </tr>\n",
       "    <tr>\n",
       "      <th>45</th>\n",
       "      <td>ARSAN</td>\n",
       "      <td>2000-05-10</td>\n",
       "    </tr>\n",
       "    <tr>\n",
       "      <th>99</th>\n",
       "      <td>BRKO</td>\n",
       "      <td>2010-02-22</td>\n",
       "    </tr>\n",
       "    <tr>\n",
       "      <th>116</th>\n",
       "      <td>CCOLA</td>\n",
       "      <td>2000-05-10</td>\n",
       "    </tr>\n",
       "    <tr>\n",
       "      <th>246</th>\n",
       "      <td>HKTM</td>\n",
       "      <td>2022-08-18</td>\n",
       "    </tr>\n",
       "    <tr>\n",
       "      <th>318</th>\n",
       "      <td>KONTR</td>\n",
       "      <td>2020-10-19</td>\n",
       "    </tr>\n",
       "    <tr>\n",
       "      <th>373</th>\n",
       "      <td>MGROS</td>\n",
       "      <td>2000-05-10</td>\n",
       "    </tr>\n",
       "    <tr>\n",
       "      <th>566</th>\n",
       "      <td>YKBNK</td>\n",
       "      <td>2000-05-10</td>\n",
       "    </tr>\n",
       "  </tbody>\n",
       "</table>\n",
       "</div>"
      ],
      "text/plain": [
       "     STOCK     IPODATE\n",
       "5    AEFES  2000-05-10\n",
       "45   ARSAN  2000-05-10\n",
       "99    BRKO  2010-02-22\n",
       "116  CCOLA  2000-05-10\n",
       "246   HKTM  2022-08-18\n",
       "318  KONTR  2020-10-19\n",
       "373  MGROS  2000-05-10\n",
       "566  YKBNK  2000-05-10"
      ]
     },
     "execution_count": 17,
     "metadata": {},
     "output_type": "execute_result"
    }
   ],
   "source": [
    "tickers_df = pd.read_sql_query(\"SELECT * FROM tickers.bistall\", dbmodel.engine)\n",
    "tickers_df = tickers_df[tickers_df.IPODATE < '2023-01-01']\n",
    "tickers_df = tickers_df[tickers_df.STOCK.isin(target_tickers)]\n",
    "tickers_df"
   ]
  },
  {
   "cell_type": "code",
   "execution_count": null,
   "metadata": {},
   "outputs": [
    {
     "name": "stdout",
     "output_type": "stream",
     "text": [
      "Schema 'logs' created or already exists.\n",
      "6264/6264 - 78s - 12ms/step - loss: 0.0011\n",
      "\u001b[1m1/1\u001b[0m \u001b[32m━━━━━━━━━━━━━━━━━━━━\u001b[0m\u001b[37m\u001b[0m \u001b[1m0s\u001b[0m 234ms/step\n",
      "\u001b[1m1/1\u001b[0m \u001b[32m━━━━━━━━━━━━━━━━━━━━\u001b[0m\u001b[37m\u001b[0m \u001b[1m0s\u001b[0m 34ms/step\n",
      "Schema 'logs' created or already exists.\n",
      "Schema 'logs' created or already exists.\n"
     ]
    }
   ],
   "source": [
    "TICKER_list = []\n",
    "LSTM_predicted = []\n",
    "GARCH_predicted = []\n",
    "LAST_price = []\n",
    "\n",
    "for i in tickers_df[\"STOCK\"].values:\n",
    "    try:\n",
    "        LSTM = LSTMModeller(schema=\"bistall\",table_name=i)\n",
    "        GARCH = GarchModel(schema=\"bistall\",table_name=i)\n",
    "        LSTM_predicted.append(LSTM.predicted_price)\n",
    "        GARCH_predicted.append(GARCH.predicted_price)\n",
    "        LAST_price.append(LSTM.last_price)\n",
    "        TICKER_list.append(i)\n",
    "    except Exception as e:\n",
    "        print(i , e)"
   ]
  }
 ],
 "metadata": {
  "kernelspec": {
   "display_name": ".venv",
   "language": "python",
   "name": "python3"
  },
  "language_info": {
   "codemirror_mode": {
    "name": "ipython",
    "version": 3
   },
   "file_extension": ".py",
   "mimetype": "text/x-python",
   "name": "python",
   "nbconvert_exporter": "python",
   "pygments_lexer": "ipython3",
   "version": "3.10.6"
  }
 },
 "nbformat": 4,
 "nbformat_minor": 2
}
