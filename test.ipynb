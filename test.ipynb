{
 "cells": [
  {
   "cell_type": "code",
   "execution_count": 3,
   "metadata": {},
   "outputs": [],
   "source": [
    "import pandas as pd\n",
    "from warnings import filterwarnings \n",
    "from sqlalchemy import create_engine\n",
    "from arch import arch_model\n",
    "from assets.GARCHModel import GarchModel\n",
    "from assets.PostgresManager import PostgresModel\n",
    "from assets.LSTMModeller import LSTMModeller\n",
    "filterwarnings(\"ignore\")"
   ]
  },
  {
   "cell_type": "code",
   "execution_count": 4,
   "metadata": {},
   "outputs": [
    {
     "name": "stdout",
     "output_type": "stream",
     "text": [
      "Schema 'logs' created or already exists.\n"
     ]
    }
   ],
   "source": [
    "dbmodel = PostgresModel()"
   ]
  },
  {
   "cell_type": "code",
   "execution_count": 16,
   "metadata": {},
   "outputs": [
    {
     "data": {
      "text/html": [
       "<div>\n",
       "<style scoped>\n",
       "    .dataframe tbody tr th:only-of-type {\n",
       "        vertical-align: middle;\n",
       "    }\n",
       "\n",
       "    .dataframe tbody tr th {\n",
       "        vertical-align: top;\n",
       "    }\n",
       "\n",
       "    .dataframe thead th {\n",
       "        text-align: right;\n",
       "    }\n",
       "</style>\n",
       "<table border=\"1\" class=\"dataframe\">\n",
       "  <thead>\n",
       "    <tr style=\"text-align: right;\">\n",
       "      <th></th>\n",
       "      <th>STOCK</th>\n",
       "      <th>IPODATE</th>\n",
       "    </tr>\n",
       "  </thead>\n",
       "  <tbody>\n",
       "    <tr>\n",
       "      <th>1</th>\n",
       "      <td>ACSEL</td>\n",
       "      <td>2012-07-06</td>\n",
       "    </tr>\n",
       "    <tr>\n",
       "      <th>2</th>\n",
       "      <td>ADEL</td>\n",
       "      <td>2000-05-10</td>\n",
       "    </tr>\n",
       "    <tr>\n",
       "      <th>3</th>\n",
       "      <td>ADESE</td>\n",
       "      <td>2011-11-03</td>\n",
       "    </tr>\n",
       "    <tr>\n",
       "      <th>5</th>\n",
       "      <td>AEFES</td>\n",
       "      <td>2000-05-10</td>\n",
       "    </tr>\n",
       "    <tr>\n",
       "      <th>6</th>\n",
       "      <td>AFYON</td>\n",
       "      <td>2000-05-10</td>\n",
       "    </tr>\n",
       "    <tr>\n",
       "      <th>...</th>\n",
       "      <td>...</td>\n",
       "      <td>...</td>\n",
       "    </tr>\n",
       "    <tr>\n",
       "      <th>570</th>\n",
       "      <td>YYAPI</td>\n",
       "      <td>2000-05-10</td>\n",
       "    </tr>\n",
       "    <tr>\n",
       "      <th>571</th>\n",
       "      <td>YYLGD</td>\n",
       "      <td>2022-05-20</td>\n",
       "    </tr>\n",
       "    <tr>\n",
       "      <th>572</th>\n",
       "      <td>ZEDUR</td>\n",
       "      <td>2011-02-11</td>\n",
       "    </tr>\n",
       "    <tr>\n",
       "      <th>573</th>\n",
       "      <td>ZOREN</td>\n",
       "      <td>2000-05-26</td>\n",
       "    </tr>\n",
       "    <tr>\n",
       "      <th>574</th>\n",
       "      <td>ZRGYO</td>\n",
       "      <td>2021-05-06</td>\n",
       "    </tr>\n",
       "  </tbody>\n",
       "</table>\n",
       "<p>481 rows × 2 columns</p>\n",
       "</div>"
      ],
      "text/plain": [
       "     STOCK     IPODATE\n",
       "1    ACSEL  2012-07-06\n",
       "2     ADEL  2000-05-10\n",
       "3    ADESE  2011-11-03\n",
       "5    AEFES  2000-05-10\n",
       "6    AFYON  2000-05-10\n",
       "..     ...         ...\n",
       "570  YYAPI  2000-05-10\n",
       "571  YYLGD  2022-05-20\n",
       "572  ZEDUR  2011-02-11\n",
       "573  ZOREN  2000-05-26\n",
       "574  ZRGYO  2021-05-06\n",
       "\n",
       "[481 rows x 2 columns]"
      ]
     },
     "execution_count": 16,
     "metadata": {},
     "output_type": "execute_result"
    }
   ],
   "source": [
    "tickers_df = pd.read_sql_query(\"SELECT * FROM tickers.bistall\", dbmodel.engine)\n",
    "tickers_df = tickers_df[tickers_df.IPODATE < '2023-01-01']\n",
    "tickers_df"
   ]
  },
  {
   "cell_type": "code",
   "execution_count": null,
   "metadata": {},
   "outputs": [
    {
     "name": "stdout",
     "output_type": "stream",
     "text": [
      "Schema 'logs' created or already exists.\n",
      "6264/6264 - 78s - 12ms/step - loss: 0.0011\n",
      "\u001b[1m1/1\u001b[0m \u001b[32m━━━━━━━━━━━━━━━━━━━━\u001b[0m\u001b[37m\u001b[0m \u001b[1m0s\u001b[0m 234ms/step\n",
      "\u001b[1m1/1\u001b[0m \u001b[32m━━━━━━━━━━━━━━━━━━━━\u001b[0m\u001b[37m\u001b[0m \u001b[1m0s\u001b[0m 34ms/step\n",
      "Schema 'logs' created or already exists.\n",
      "Schema 'logs' created or already exists.\n"
     ]
    }
   ],
   "source": [
    "TICKER_list = []\n",
    "LSTM_predicted = []\n",
    "GARCH_predicted = []\n",
    "LAST_price = []\n",
    "\n",
    "for i in tickers_df[\"STOCK\"].values:\n",
    "    try:\n",
    "        LSTM = LSTMModeller(schema=\"bistall\",table_name=i)\n",
    "        GARCH = GarchModel(schema=\"bistall\",table_name=i)\n",
    "        LSTM_predicted.append(LSTM.predicted_price)\n",
    "        GARCH_predicted.append(GARCH.predicted_price)\n",
    "        LAST_price.append(LSTM.last_price)\n",
    "        TICKER_list.append(i)\n",
    "    except Exception as e:\n",
    "        print(i , e)"
   ]
  }
 ],
 "metadata": {
  "kernelspec": {
   "display_name": ".venv",
   "language": "python",
   "name": "python3"
  },
  "language_info": {
   "codemirror_mode": {
    "name": "ipython",
    "version": 3
   },
   "file_extension": ".py",
   "mimetype": "text/x-python",
   "name": "python",
   "nbconvert_exporter": "python",
   "pygments_lexer": "ipython3",
   "version": "3.12.3"
  }
 },
 "nbformat": 4,
 "nbformat_minor": 2
}
