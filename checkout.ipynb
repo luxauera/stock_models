{
 "cells": [
  {
   "cell_type": "code",
   "execution_count": 1,
   "metadata": {},
   "outputs": [],
   "source": [
    "import pandas as pd \n",
    "from assets.PostgresManager import PostgresModel"
   ]
  },
  {
   "cell_type": "code",
   "execution_count": 2,
   "metadata": {},
   "outputs": [
    {
     "name": "stdout",
     "output_type": "stream",
     "text": [
      "Schema 'logs' created or already exists.\n"
     ]
    }
   ],
   "source": [
    "dbmodel = PostgresModel()"
   ]
  },
  {
   "cell_type": "code",
   "execution_count": null,
   "metadata": {
    "vscode": {
     "languageId": "sql"
    }
   },
   "outputs": [],
   "source": [
    "SELECT table_schema, \n",
    "       table_name\n",
    "FROM information_schema.tables\n",
    "WHERE table_schema = 'tickers'\n",
    "  AND table_type = 'BASE TABLE';"
   ]
  },
  {
   "cell_type": "code",
   "execution_count": 18,
   "metadata": {},
   "outputs": [
    {
     "name": "stdout",
     "output_type": "stream",
     "text": [
      "Schema 'logs' created or already exists.\n"
     ]
    },
    {
     "data": {
      "text/plain": [
       "['trycurr', 'bistall', 'cointest', 'sp500']"
      ]
     },
     "execution_count": 18,
     "metadata": {},
     "output_type": "execute_result"
    }
   ],
   "source": [
    "class QueryModel(PostgresModel):\n",
    "    def __init__(self):\n",
    "        super().__init__()\n",
    "        self.query = \"\"\"\n",
    "        SELECT table_schema, \n",
    "               table_name\n",
    "        FROM information_schema.tables\n",
    "        WHERE table_schema = 'tickers'\n",
    "          AND table_type = 'BASE TABLE';\n",
    "        \"\"\"\n",
    "        self.tables_df = pd.read_sql_query(self.query, self.engine)\n",
    "        self.clear_table_list = self.Create_Clear_Table_List()\n",
    "    \n",
    "    def Create_Clear_Table_List(self):\n",
    "        filter_func = lambda x : x != None\n",
    "        temp_list = [None if 'utils' in x else x for x in self.tables_df[\"table_name\"].values]\n",
    "        return list(filter(filter_func, temp_list))\n",
    "        \n",
    "\n",
    "\n",
    "test = QueryModel()\n",
    "test.clear_table_list"
   ]
  },
  {
   "cell_type": "code",
   "execution_count": 17,
   "metadata": {},
   "outputs": [
    {
     "data": {
      "text/plain": [
       "[3, 3, 1]"
      ]
     },
     "execution_count": 17,
     "metadata": {},
     "output_type": "execute_result"
    }
   ],
   "source": [
    "list(filter(lambda x : x != 2 , [2,2,3,3,1]))"
   ]
  }
 ],
 "metadata": {
  "kernelspec": {
   "display_name": ".venv",
   "language": "python",
   "name": "python3"
  },
  "language_info": {
   "codemirror_mode": {
    "name": "ipython",
    "version": 3
   },
   "file_extension": ".py",
   "mimetype": "text/x-python",
   "name": "python",
   "nbconvert_exporter": "python",
   "pygments_lexer": "ipython3",
   "version": "3.12.3"
  }
 },
 "nbformat": 4,
 "nbformat_minor": 2
}
